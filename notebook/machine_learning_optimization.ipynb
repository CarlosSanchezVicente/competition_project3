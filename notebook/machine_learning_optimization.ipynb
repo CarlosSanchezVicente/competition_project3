{
 "cells": [
  {
   "cell_type": "markdown",
   "id": "09ed87d3",
   "metadata": {},
   "source": [
    "# Imports"
   ]
  },
  {
   "cell_type": "code",
   "execution_count": 38,
   "id": "8ea35a3a",
   "metadata": {},
   "outputs": [],
   "source": [
    "# Hide warnings\n",
    "import warnings\n",
    "warnings.filterwarnings(\"ignore\")\n",
    "\n",
    "# Imports\n",
    "import time\n",
    "from IPython.display import display, Javascript\n",
    "import itertools\n",
    "import duckdb\n",
    "import pandas as pd\n",
    "import numpy as np\n",
    "import math\n",
    "\n",
    "# Plot\n",
    "import matplotlib.pyplot as plt\n",
    "import seaborn as sns\n",
    "from sklearn.feature_selection import mutual_info_regression\n",
    "\n",
    "# Data process\n",
    "from sklearn.preprocessing import LabelEncoder\n",
    "from sklearn.preprocessing import StandardScaler\n",
    "from sklearn.cluster import DBSCAN\n",
    "\n",
    "# Pipeline\n",
    "from sklearn.compose import ColumnTransformer, make_column_transformer\n",
    "from sklearn.pipeline import make_pipeline, Pipeline\n",
    "from sklearn.preprocessing import PowerTransformer\n",
    "\n",
    "# Train\n",
    "from sklearn.model_selection import train_test_split\n",
    "from sklearn.metrics import precision_score, recall_score, f1_score\n",
    "from sklearn.model_selection import cross_val_score\n",
    "\n",
    "# Models\n",
    "import umap\n",
    "from sklearn.tree import DecisionTreeRegressor\n",
    "from sklearn.ensemble import RandomForestRegressor\n",
    "from sklearn.linear_model import LinearRegression\n",
    "from xgboost import XGBRegressor\n",
    "from lightgbm import LGBMRegressor\n",
    "#from catboost import CatBoostRegressor\n",
    "from sklearn.ensemble import BaggingRegressor\n",
    "from sklearn.tree import DecisionTreeRegressor\n",
    "from sklearn.ensemble import ExtraTreesRegressor\n",
    "from sklearn.neighbors import KNeighborsRegressor\n",
    "from sklearn.ensemble import ExtraTreesRegressor\n",
    "from sklearn.ensemble import RandomForestRegressor\n",
    "from sklearn.ensemble import GradientBoostingRegressor\n",
    "from sklearn.neural_network import MLPRegressor\n",
    "\n",
    "from sklearn.ensemble import StackingRegressor\n",
    "from sklearn.ensemble import VotingRegressor\n",
    "from sklearn.model_selection import GridSearchCV\n",
    "from sklearn.model_selection import RandomizedSearchCV\n",
    "\n",
    "# Metrics\n",
    "from sklearn.metrics import mean_squared_error\n",
    "from sklearn import metrics\n",
    "from sklearn.metrics import r2_score\n",
    "\n",
    "# Install sqlite as a extension of duckdb\n",
    "#duckdb.install_extension('sqlite')"
   ]
  },
  {
   "cell_type": "markdown",
   "id": "a1f9d613",
   "metadata": {},
   "source": [
    "### Import data procesed"
   ]
  },
  {
   "cell_type": "code",
   "execution_count": 58,
   "id": "81612cc9",
   "metadata": {},
   "outputs": [],
   "source": [
    "X = pd.read_csv('../data/processed/X_without_outliers_dupli.csv')\n",
    "y = pd.read_csv('../data/processed/y_without_outliers_dupli.csv')"
   ]
  },
  {
   "cell_type": "code",
   "execution_count": 43,
   "id": "c31c6ea6",
   "metadata": {},
   "outputs": [],
   "source": [
    "X_test = pd.read_csv('../data/processed/x_test.csv')"
   ]
  },
  {
   "cell_type": "markdown",
   "id": "9ee71073",
   "metadata": {},
   "source": [
    "# Machine learning"
   ]
  },
  {
   "cell_type": "markdown",
   "id": "25ed54ec",
   "metadata": {},
   "source": [
    "## Fine-Tuning models"
   ]
  },
  {
   "cell_type": "markdown",
   "id": "b967c1b4",
   "metadata": {},
   "source": [
    "#### XGBBoost"
   ]
  },
  {
   "cell_type": "code",
   "execution_count": 15,
   "id": "88466812",
   "metadata": {},
   "outputs": [
    {
     "name": "stdout",
     "output_type": "stream",
     "text": [
      "Fitting 5 folds for each of 3 candidates, totalling 15 fits\n",
      "\n",
      "\n",
      "Best hyperparameters:  {'colsample_bytree': 0.8, 'gamma': 0.05, 'lambda': 0.7, 'learning_rate': 0.035, 'max_depth': 5, 'n_estimators': 950, 'subsample': 1} \n",
      "\n",
      "Best score:  -541.5312819563311 \n",
      "\n"
     ]
    }
   ],
   "source": [
    "#param_Rodri = {'colsample_bytree': 0.95, 'gamma': 0.14, 'learning_rate': 0.012, 'max_depth': 7, 'missing': np.inf, \n",
    "#               'n_estimators': 1130, 'subsample': 0.8}\n",
    "\n",
    "param_grid_xgb = {'n_estimators': [950],  # Number of trees in the forest.\n",
    "                  'max_depth': [5],  # Maximum depth of the trees.\n",
    "                  'subsample': [1],\n",
    "                  'colsample_bytree': [0.8],\n",
    "                  'lambda': [0.7],\n",
    "                  'gamma': [0.05],\n",
    "                  'learning_rate': [0.035]\n",
    "                 }\n",
    "\n",
    "xgb_reg = XGBRegressor(random_state=0)\n",
    "\n",
    "xgb_grid_search = GridSearchCV(xgb_reg, param_grid_xgb, cv=5, scoring='neg_root_mean_squared_error', return_train_score=True, verbose=1, n_jobs=-1)\n",
    "\n",
    "xgb_grid_search.fit(X, y)\n",
    "\n",
    "print('\\n')\n",
    "print('Best hyperparameters: ', xgb_grid_search.best_params_, '\\n')\n",
    "print('Best score: ', xgb_grid_search.best_score_, '\\n')"
   ]
  },
  {
   "cell_type": "markdown",
   "id": "e7aa0955",
   "metadata": {},
   "source": [
    "#### LGBM Regressor"
   ]
  },
  {
   "cell_type": "code",
   "execution_count": 20,
   "id": "502bf3b1",
   "metadata": {},
   "outputs": [
    {
     "name": "stdout",
     "output_type": "stream",
     "text": [
      "Fitting 5 folds for each of 6 candidates, totalling 30 fits\n",
      "[LightGBM] [Info] Auto-choosing col-wise multi-threading, the overhead of testing was 0.002037 seconds.\n",
      "You can set `force_col_wise=true` to remove the overhead.\n",
      "[LightGBM] [Info] Total Bins 1196\n",
      "[LightGBM] [Info] Number of data points in the train set: 40455, number of used features: 10\n",
      "[LightGBM] [Info] Start training from score 3928.444469\n",
      "\n",
      "\n",
      "Best hyperparameters:  {'learning_rate': 0.02, 'max_depth': -1, 'n_estimators': 1300, 'num_leaves': 30} \n",
      "\n",
      "Best score:  -540.2685352100276 \n",
      "\n"
     ]
    }
   ],
   "source": [
    "param_grid_lgbm = {'num_leaves': [30], \n",
    "                   'learning_rate': [0.02] ,\n",
    "                   'n_estimators': [1300],\n",
    "                   'max_depth': [-1]\n",
    "                  }\n",
    "\n",
    "lgbm_reg = LGBMRegressor(random_state=0)\n",
    "\n",
    "lgbm_grid_search = GridSearchCV(param_grid_lgbm, param_grid, cv=5, scoring='neg_root_mean_squared_error', return_train_score=True, verbose=1, n_jobs=-1)\n",
    "\n",
    "lgbm_grid_search.fit(X, y)\n",
    "\n",
    "print('\\n')\n",
    "print('Best hyperparameters: ', lgbm_grid_search.best_params_, '\\n')\n",
    "print('Best score: ', lgbm_grid_search.best_score_, '\\n')"
   ]
  },
  {
   "cell_type": "markdown",
   "id": "3ba0c2a4",
   "metadata": {},
   "source": [
    "#### ExtraTreesRegressor"
   ]
  },
  {
   "cell_type": "code",
   "execution_count": 27,
   "id": "006be0b4",
   "metadata": {},
   "outputs": [
    {
     "name": "stdout",
     "output_type": "stream",
     "text": [
      "Fitting 5 folds for each of 12 candidates, totalling 60 fits\n",
      "\n",
      "\n",
      "Best hyperparameters:  {'criterion': 'squared_error', 'max_depth': None, 'max_features': 'sqrt', 'min_samples_leaf': 1, 'min_samples_split': 3, 'n_estimators': 100} \n",
      "\n",
      "Best score:  -623.2712676843757 \n",
      "\n"
     ]
    }
   ],
   "source": [
    "param_grid = {'n_estimators': [70, 100, 150], \n",
    "              'max_depth': [None],\n",
    "              'criterion': ['squared_error'],\n",
    "              'max_features': ['sqrt'],\n",
    "              'min_samples_leaf': [1, 2],\n",
    "              'min_samples_split': [3, 4]\n",
    "             }\n",
    "\n",
    "extrees_reg = ExtraTreesRegressor(random_state=0)\n",
    "\n",
    "extrees_grid_search = GridSearchCV(extrees_reg, param_grid, cv=5, scoring='neg_root_mean_squared_error', verbose=1, n_jobs=-1)\n",
    "\n",
    "extrees_grid_search.fit(X, y)\n",
    "\n",
    "print('\\n')\n",
    "print('Best hyperparameters: ', extrees_grid_search.best_params_, '\\n')\n",
    "print('Best score: ', extrees_grid_search.best_score_, '\\n')"
   ]
  },
  {
   "cell_type": "markdown",
   "id": "3586fe3d",
   "metadata": {},
   "source": [
    "#### RandomForestRegressor"
   ]
  },
  {
   "cell_type": "code",
   "execution_count": 32,
   "id": "4887e681",
   "metadata": {},
   "outputs": [
    {
     "name": "stdout",
     "output_type": "stream",
     "text": [
      "Fitting 5 folds for each of 3 candidates, totalling 15 fits\n",
      "\n",
      "\n",
      "Best hyperparameters:  {'max_depth': None, 'max_features': None, 'min_samples_leaf': 1, 'min_samples_split': 7, 'n_estimators': 1400} \n",
      "\n",
      "Best score:  -559.8022665932598 \n",
      "\n",
      "CPU times: total: 7min 45s\n",
      "Wall time: 25min 20s\n"
     ]
    }
   ],
   "source": [
    "%%time\n",
    "param_grid_rf = {'n_estimators': [1400],  # Number of trees in the forest.\n",
    "                 'max_depth': [None],  # Maximum depth of the trees.\n",
    "                 'min_samples_split': [7],  # Minimum number of samples required to split an internal node.\n",
    "                 'min_samples_leaf': [1],  # Minimum number of samples required to be at a leaf node.\n",
    "                 'max_features': [None]  # Number of features to consider when looking for the best split.\n",
    "                }\n",
    "\n",
    "rf_reg = RandomForestRegressor(random_state=0)\n",
    "\n",
    "rf_grid_search = GridSearchCV(rf_reg, param_grid_rf, cv=5, scoring='neg_root_mean_squared_error', verbose=1, n_jobs=-1)\n",
    "\n",
    "rf_grid_search.fit(X, y)\n",
    "\n",
    "print('\\n')\n",
    "print('Best hyperparameters: ', rf_grid_search.best_params_, '\\n')\n",
    "print('Best score: ', rf_grid_search.best_score_, '\\n')"
   ]
  },
  {
   "cell_type": "code",
   "execution_count": 35,
   "id": "807b5a25",
   "metadata": {},
   "outputs": [
    {
     "name": "stdout",
     "output_type": "stream",
     "text": [
      "\n",
      "\n",
      "Best hyperparameters:  {'activation': 'relu', 'alpha': 0.05, 'hidden_layer_sizes': (50, 100, 50), 'solver': 'adam'} \n",
      "\n",
      "Best score:  0.9309345150809444 \n",
      "\n",
      "CPU times: total: 2h 26min 15s\n",
      "Wall time: 36min 37s\n"
     ]
    }
   ],
   "source": [
    "%%time\n",
    "# Define the model\n",
    "mlp = MLPRegressor(max_iter=100)\n",
    "\n",
    "# Set up the parameter grid\n",
    "param_grid_mlp = {'hidden_layer_sizes': [(50,100,50)],\n",
    "                  'activation': ['relu'],\n",
    "                  'solver': ['adam'],\n",
    "                  'alpha': [0.05],\n",
    "                 }\n",
    "\n",
    "# Instantiate GridSearchCV\n",
    "mlp_grid_search = GridSearchCV(mlp, param_grid_mlp, cv=5)\n",
    "\n",
    "# Fit the GridSearchCV object\n",
    "mlp_grid_search.fit(X, y)\n",
    "\n",
    "# Access the results\n",
    "print('\\n')\n",
    "print('Best hyperparameters: ', mlp_grid_search.best_params_, '\\n')\n",
    "print('Best score: ', mlp_grid_search.best_score_, '\\n')"
   ]
  },
  {
   "cell_type": "markdown",
   "id": "d801ecaa",
   "metadata": {},
   "source": [
    "## Train the model\n",
    "#### Estimators"
   ]
  },
  {
   "cell_type": "code",
   "execution_count": 36,
   "id": "eb594611",
   "metadata": {},
   "outputs": [],
   "source": [
    "param_grid_xgb = {'n_estimators': 950,  # Number of trees in the forest.\n",
    "                  'max_depth': 5,  # Maximum depth of the trees.\n",
    "                  'subsample': 1,\n",
    "                  'colsample_bytree': 0.8,\n",
    "                  'lambda': 0.7,\n",
    "                  'gamma': 0.05,\n",
    "                  'learning_rate': 0.035\n",
    "                 }\n",
    "param_grid_lgbm = {'num_leaves': 30, \n",
    "                   'learning_rate': 0.02 ,\n",
    "                   'n_estimators': 1300,\n",
    "                   'max_depth': -1\n",
    "                  }\n",
    "param_grid_rf = {'n_estimators': 1400,  # Number of trees in the forest.\n",
    "                 'max_depth': None,  # Maximum depth of the trees.\n",
    "                 'min_samples_split': 7,  # Minimum number of samples required to split an internal node.\n",
    "                 'min_samples_leaf': 1,  # Minimum number of samples required to be at a leaf node.\n",
    "                 'max_features': None  # Number of features to consider when looking for the best split.\n",
    "                }\n",
    "param_grid_mlp = {'hidden_layer_sizes': (50,100,50),\n",
    "                  'activation': 'relu',\n",
    "                  'solver': 'adam',\n",
    "                  'alpha': 0.05,\n",
    "                 }"
   ]
  },
  {
   "cell_type": "markdown",
   "id": "d65767e5",
   "metadata": {},
   "source": [
    "### Stacking without final_estimator\n",
    "#### Train stack model"
   ]
  },
  {
   "cell_type": "code",
   "execution_count": 59,
   "id": "143aafbb",
   "metadata": {
    "scrolled": true
   },
   "outputs": [
    {
     "name": "stdout",
     "output_type": "stream",
     "text": [
      "Hyperparameters:  {'cv': None, 'estimators': [('xgb1', XGBRegressor(base_score=None, booster=None, callbacks=None,\n",
      "             colsample_bylevel=None, colsample_bynode=None,\n",
      "             colsample_bytree=0.8, device=None, early_stopping_rounds=None,\n",
      "             enable_categorical=False, eval_metric=None, feature_types=None,\n",
      "             gamma=0.05, grow_policy=None, importance_type=None,\n",
      "             interaction_constraints=None, lambda=0.7, learning_rate=0.035,\n",
      "             max_bin=None, max_cat_threshold=None, max_cat_to_onehot=None,\n",
      "             max_delta_step=None, max_depth=5, max_leaves=None,\n",
      "             min_child_weight=None, missing=nan, monotone_constraints=None,\n",
      "             multi_strategy=None, n_estimators=950, n_jobs=None,\n",
      "             num_parallel_tree=None, ...)), ('lgbm1', LGBMRegressor(learning_rate=0.02, n_estimators=1300, num_leaves=30)), ('rf', RandomForestRegressor(max_features=None, min_samples_split=7, n_estimators=1400)), ('mlp', MLPRegressor(alpha=0.05, hidden_layer_sizes=(50, 100, 50)))], 'final_estimator': None, 'n_jobs': -1, 'passthrough': True, 'verbose': True, 'xgb1': XGBRegressor(base_score=None, booster=None, callbacks=None,\n",
      "             colsample_bylevel=None, colsample_bynode=None,\n",
      "             colsample_bytree=0.8, device=None, early_stopping_rounds=None,\n",
      "             enable_categorical=False, eval_metric=None, feature_types=None,\n",
      "             gamma=0.05, grow_policy=None, importance_type=None,\n",
      "             interaction_constraints=None, lambda=0.7, learning_rate=0.035,\n",
      "             max_bin=None, max_cat_threshold=None, max_cat_to_onehot=None,\n",
      "             max_delta_step=None, max_depth=5, max_leaves=None,\n",
      "             min_child_weight=None, missing=nan, monotone_constraints=None,\n",
      "             multi_strategy=None, n_estimators=950, n_jobs=None,\n",
      "             num_parallel_tree=None, ...), 'lgbm1': LGBMRegressor(learning_rate=0.02, n_estimators=1300, num_leaves=30), 'rf': RandomForestRegressor(max_features=None, min_samples_split=7, n_estimators=1400), 'mlp': MLPRegressor(alpha=0.05, hidden_layer_sizes=(50, 100, 50)), 'xgb1__objective': 'reg:squarederror', 'xgb1__base_score': None, 'xgb1__booster': None, 'xgb1__callbacks': None, 'xgb1__colsample_bylevel': None, 'xgb1__colsample_bynode': None, 'xgb1__colsample_bytree': 0.8, 'xgb1__device': None, 'xgb1__early_stopping_rounds': None, 'xgb1__enable_categorical': False, 'xgb1__eval_metric': None, 'xgb1__feature_types': None, 'xgb1__gamma': 0.05, 'xgb1__grow_policy': None, 'xgb1__importance_type': None, 'xgb1__interaction_constraints': None, 'xgb1__learning_rate': 0.035, 'xgb1__max_bin': None, 'xgb1__max_cat_threshold': None, 'xgb1__max_cat_to_onehot': None, 'xgb1__max_delta_step': None, 'xgb1__max_depth': 5, 'xgb1__max_leaves': None, 'xgb1__min_child_weight': None, 'xgb1__missing': nan, 'xgb1__monotone_constraints': None, 'xgb1__multi_strategy': None, 'xgb1__n_estimators': 950, 'xgb1__n_jobs': None, 'xgb1__num_parallel_tree': None, 'xgb1__random_state': None, 'xgb1__reg_alpha': None, 'xgb1__reg_lambda': None, 'xgb1__sampling_method': None, 'xgb1__scale_pos_weight': None, 'xgb1__subsample': 1, 'xgb1__tree_method': None, 'xgb1__validate_parameters': None, 'xgb1__verbosity': None, 'xgb1__lambda': 0.7, 'lgbm1__boosting_type': 'gbdt', 'lgbm1__class_weight': None, 'lgbm1__colsample_bytree': 1.0, 'lgbm1__importance_type': 'split', 'lgbm1__learning_rate': 0.02, 'lgbm1__max_depth': -1, 'lgbm1__min_child_samples': 20, 'lgbm1__min_child_weight': 0.001, 'lgbm1__min_split_gain': 0.0, 'lgbm1__n_estimators': 1300, 'lgbm1__n_jobs': None, 'lgbm1__num_leaves': 30, 'lgbm1__objective': None, 'lgbm1__random_state': None, 'lgbm1__reg_alpha': 0.0, 'lgbm1__reg_lambda': 0.0, 'lgbm1__subsample': 1.0, 'lgbm1__subsample_for_bin': 200000, 'lgbm1__subsample_freq': 0, 'rf__bootstrap': True, 'rf__ccp_alpha': 0.0, 'rf__criterion': 'squared_error', 'rf__max_depth': None, 'rf__max_features': None, 'rf__max_leaf_nodes': None, 'rf__max_samples': None, 'rf__min_impurity_decrease': 0.0, 'rf__min_samples_leaf': 1, 'rf__min_samples_split': 7, 'rf__min_weight_fraction_leaf': 0.0, 'rf__monotonic_cst': None, 'rf__n_estimators': 1400, 'rf__n_jobs': None, 'rf__oob_score': False, 'rf__random_state': None, 'rf__verbose': 0, 'rf__warm_start': False, 'mlp__activation': 'relu', 'mlp__alpha': 0.05, 'mlp__batch_size': 'auto', 'mlp__beta_1': 0.9, 'mlp__beta_2': 0.999, 'mlp__early_stopping': False, 'mlp__epsilon': 1e-08, 'mlp__hidden_layer_sizes': (50, 100, 50), 'mlp__learning_rate': 'constant', 'mlp__learning_rate_init': 0.001, 'mlp__max_fun': 15000, 'mlp__max_iter': 200, 'mlp__momentum': 0.9, 'mlp__n_iter_no_change': 10, 'mlp__nesterovs_momentum': True, 'mlp__power_t': 0.5, 'mlp__random_state': None, 'mlp__shuffle': True, 'mlp__solver': 'adam', 'mlp__tol': 0.0001, 'mlp__validation_fraction': 0.1, 'mlp__verbose': False, 'mlp__warm_start': False}  | cv_score_mean: 527.4189239943559\n",
      "CPU times: total: 51.7 s\n",
      "Wall time: 44min 15s\n"
     ]
    }
   ],
   "source": [
    "%%time\n",
    "xgb_model = XGBRegressor(**param_grid_xgb)\n",
    "lgb_model = LGBMRegressor(**param_grid_lgbm)\n",
    "rf_model = RandomForestRegressor(**param_grid_rf)\n",
    "mlp_model = MLPRegressor(**param_grid_mlp)\n",
    "\n",
    "estimators = [('xgb1', xgb_model),\n",
    "              ('lgbm1', lgb_model),\n",
    "              ('rf', rf_model),\n",
    "              ('mlp', mlp_model)]\n",
    "              #('extrees', extrees_model),]\n",
    "\n",
    "stack_model = StackingRegressor(estimators=estimators, cv=None, n_jobs=-1, verbose=True, passthrough=True)   #cv=None\n",
    "\n",
    "cv_results = []\n",
    "cv_score = cross_val_score(stack_model, X, y, scoring=\"neg_root_mean_squared_error\", cv=5)\n",
    "cv_results.append(cv_score)\n",
    "\n",
    "hyperparameters = stack_model.get_params()\n",
    "cv_score_mean = abs(np.mean(cv_results))\n",
    "print('Hyperparameters: ', hyperparameters, ' | cv_score_mean:', cv_score_mean)\n",
    "\n",
    "stack_model.fit(X,y)\n",
    "hyperparameters_all = stack_model.get_params()"
   ]
  },
  {
   "cell_type": "markdown",
   "id": "d8f7be15",
   "metadata": {},
   "source": [
    "#### Result"
   ]
  },
  {
   "cell_type": "code",
   "execution_count": 41,
   "id": "7b6bde6b",
   "metadata": {
    "scrolled": true
   },
   "outputs": [
    {
     "name": "stdout",
     "output_type": "stream",
     "text": [
      "Hyperparameters:  {'cv': None, 'estimators': [('lgbm1', XGBRegressor(base_score=None, booster=None, callbacks=None,\n",
      "             colsample_bylevel=None, colsample_bynode=None,\n",
      "             colsample_bytree=0.8, device=None, early_stopping_rounds=None,\n",
      "             enable_categorical=False, eval_metric=None, feature_types=None,\n",
      "             gamma=0.05, grow_policy=None, importance_type=None,\n",
      "             interaction_constraints=None, lambda=0.7, learning_rate=0.035,\n",
      "             max_bin=None, max_cat_threshold=None, max_cat_to_onehot=None,\n",
      "             max_delta_step=None, max_depth=5, max_leaves=None,\n",
      "             min_child_weight=None, missing=nan, monotone_constraints=None,\n",
      "             multi_strategy=None, n_estimators=950, n_jobs=None,\n",
      "             num_parallel_tree=None, ...)), ('xgb1', LGBMRegressor(learning_rate=0.02, n_estimators=1300, num_leaves=30)), ('rf', RandomForestRegressor(max_features=None, min_samples_split=7, n_estimators=1400)), ('mlp', MLPRegressor(alpha=0.05, hidden_layer_sizes=(50, 100, 50)))], 'final_estimator': None, 'n_jobs': -1, 'passthrough': True, 'verbose': True, 'lgbm1': XGBRegressor(base_score=None, booster=None, callbacks=None,\n",
      "             colsample_bylevel=None, colsample_bynode=None,\n",
      "             colsample_bytree=0.8, device=None, early_stopping_rounds=None,\n",
      "             enable_categorical=False, eval_metric=None, feature_types=None,\n",
      "             gamma=0.05, grow_policy=None, importance_type=None,\n",
      "             interaction_constraints=None, lambda=0.7, learning_rate=0.035,\n",
      "             max_bin=None, max_cat_threshold=None, max_cat_to_onehot=None,\n",
      "             max_delta_step=None, max_depth=5, max_leaves=None,\n",
      "             min_child_weight=None, missing=nan, monotone_constraints=None,\n",
      "             multi_strategy=None, n_estimators=950, n_jobs=None,\n",
      "             num_parallel_tree=None, ...), 'xgb1': LGBMRegressor(learning_rate=0.02, n_estimators=1300, num_leaves=30), 'rf': RandomForestRegressor(max_features=None, min_samples_split=7, n_estimators=1400), 'mlp': MLPRegressor(alpha=0.05, hidden_layer_sizes=(50, 100, 50)), 'lgbm1__objective': 'reg:squarederror', 'lgbm1__base_score': None, 'lgbm1__booster': None, 'lgbm1__callbacks': None, 'lgbm1__colsample_bylevel': None, 'lgbm1__colsample_bynode': None, 'lgbm1__colsample_bytree': 0.8, 'lgbm1__device': None, 'lgbm1__early_stopping_rounds': None, 'lgbm1__enable_categorical': False, 'lgbm1__eval_metric': None, 'lgbm1__feature_types': None, 'lgbm1__gamma': 0.05, 'lgbm1__grow_policy': None, 'lgbm1__importance_type': None, 'lgbm1__interaction_constraints': None, 'lgbm1__learning_rate': 0.035, 'lgbm1__max_bin': None, 'lgbm1__max_cat_threshold': None, 'lgbm1__max_cat_to_onehot': None, 'lgbm1__max_delta_step': None, 'lgbm1__max_depth': 5, 'lgbm1__max_leaves': None, 'lgbm1__min_child_weight': None, 'lgbm1__missing': nan, 'lgbm1__monotone_constraints': None, 'lgbm1__multi_strategy': None, 'lgbm1__n_estimators': 950, 'lgbm1__n_jobs': None, 'lgbm1__num_parallel_tree': None, 'lgbm1__random_state': None, 'lgbm1__reg_alpha': None, 'lgbm1__reg_lambda': None, 'lgbm1__sampling_method': None, 'lgbm1__scale_pos_weight': None, 'lgbm1__subsample': 1, 'lgbm1__tree_method': None, 'lgbm1__validate_parameters': None, 'lgbm1__verbosity': None, 'lgbm1__lambda': 0.7, 'xgb1__boosting_type': 'gbdt', 'xgb1__class_weight': None, 'xgb1__colsample_bytree': 1.0, 'xgb1__importance_type': 'split', 'xgb1__learning_rate': 0.02, 'xgb1__max_depth': -1, 'xgb1__min_child_samples': 20, 'xgb1__min_child_weight': 0.001, 'xgb1__min_split_gain': 0.0, 'xgb1__n_estimators': 1300, 'xgb1__n_jobs': None, 'xgb1__num_leaves': 30, 'xgb1__objective': None, 'xgb1__random_state': None, 'xgb1__reg_alpha': 0.0, 'xgb1__reg_lambda': 0.0, 'xgb1__subsample': 1.0, 'xgb1__subsample_for_bin': 200000, 'xgb1__subsample_freq': 0, 'rf__bootstrap': True, 'rf__ccp_alpha': 0.0, 'rf__criterion': 'squared_error', 'rf__max_depth': None, 'rf__max_features': None, 'rf__max_leaf_nodes': None, 'rf__max_samples': None, 'rf__min_impurity_decrease': 0.0, 'rf__min_samples_leaf': 1, 'rf__min_samples_split': 7, 'rf__min_weight_fraction_leaf': 0.0, 'rf__monotonic_cst': None, 'rf__n_estimators': 1400, 'rf__n_jobs': None, 'rf__oob_score': False, 'rf__random_state': None, 'rf__verbose': 0, 'rf__warm_start': False, 'mlp__activation': 'relu', 'mlp__alpha': 0.05, 'mlp__batch_size': 'auto', 'mlp__beta_1': 0.9, 'mlp__beta_2': 0.999, 'mlp__early_stopping': False, 'mlp__epsilon': 1e-08, 'mlp__hidden_layer_sizes': (50, 100, 50), 'mlp__learning_rate': 'constant', 'mlp__learning_rate_init': 0.001, 'mlp__max_fun': 15000, 'mlp__max_iter': 200, 'mlp__momentum': 0.9, 'mlp__n_iter_no_change': 10, 'mlp__nesterovs_momentum': True, 'mlp__power_t': 0.5, 'mlp__random_state': None, 'mlp__shuffle': True, 'mlp__solver': 'adam', 'mlp__tol': 0.0001, 'mlp__validation_fraction': 0.1, 'mlp__verbose': False, 'mlp__warm_start': False}  | cv_score_mean: 531.239284471931\n"
     ]
    }
   ],
   "source": [
    "hyperparameters = stack_model.get_params()\n",
    "cv_score_mean = abs(np.mean(cv_results))\n",
    "print('Hyperparameters: ', hyperparameters, ' | cv_score_mean:', cv_score_mean)\n",
    "\n",
    "stack_model.fit(X,y)\n",
    "hyperparameters_all = stack_model.get_params()"
   ]
  },
  {
   "cell_type": "markdown",
   "id": "89ef5f6b",
   "metadata": {},
   "source": [
    "#### Obtain the prediction"
   ]
  },
  {
   "cell_type": "code",
   "execution_count": 60,
   "id": "9607157b",
   "metadata": {},
   "outputs": [
    {
     "data": {
      "text/plain": [
       "13485"
      ]
     },
     "execution_count": 60,
     "metadata": {},
     "output_type": "execute_result"
    }
   ],
   "source": [
    "y_pred = stack_model.predict(X_test)\n",
    "len(y_pred)"
   ]
  },
  {
   "cell_type": "code",
   "execution_count": 61,
   "id": "c8c0104a",
   "metadata": {},
   "outputs": [],
   "source": [
    "y_pred_df = pd.DataFrame(y_pred)\n",
    "y_pred_df.reset_index(inplace=True)\n",
    "y_pred_df.columns = ['id', 'price']\n",
    "y_pred_df.to_csv('../data/submisions/stacking_without_final_estimator_cv_remove_dupl_out.csv', index=False)"
   ]
  },
  {
   "cell_type": "markdown",
   "id": "413ef38e",
   "metadata": {},
   "source": [
    "### Stacking with final_estimator"
   ]
  },
  {
   "cell_type": "code",
   "execution_count": 52,
   "id": "cbe940fe",
   "metadata": {
    "scrolled": true
   },
   "outputs": [
    {
     "name": "stdout",
     "output_type": "stream",
     "text": [
      "Hyperparameters:  {'cv': 5, 'estimators': [('xgb1', XGBRegressor(base_score=None, booster=None, callbacks=None,\n",
      "             colsample_bylevel=None, colsample_bynode=None,\n",
      "             colsample_bytree=0.8, device=None, early_stopping_rounds=None,\n",
      "             enable_categorical=False, eval_metric=None, feature_types=None,\n",
      "             gamma=0.05, grow_policy=None, importance_type=None,\n",
      "             interaction_constraints=None, lambda=0.7, learning_rate=0.035,\n",
      "             max_bin=None, max_cat_threshold=None, max_cat_to_onehot=None,\n",
      "             max_delta_step=None, max_depth=5, max_leaves=None,\n",
      "             min_child_weight=None, missing=nan, monotone_constraints=None,\n",
      "             multi_strategy=None, n_estimators=950, n_jobs=None,\n",
      "             num_parallel_tree=None, ...)), ('lgbm1', LGBMRegressor(learning_rate=0.02, n_estimators=1300, num_leaves=30)), ('rf', RandomForestRegressor(max_features=None, min_samples_split=7, n_estimators=1400)), ('mlp', MLPRegressor(alpha=0.05, hidden_layer_sizes=(50, 100, 50)))], 'final_estimator__objective': 'reg:squarederror', 'final_estimator__base_score': None, 'final_estimator__booster': None, 'final_estimator__callbacks': None, 'final_estimator__colsample_bylevel': None, 'final_estimator__colsample_bynode': None, 'final_estimator__colsample_bytree': None, 'final_estimator__device': None, 'final_estimator__early_stopping_rounds': None, 'final_estimator__enable_categorical': False, 'final_estimator__eval_metric': None, 'final_estimator__feature_types': None, 'final_estimator__gamma': None, 'final_estimator__grow_policy': None, 'final_estimator__importance_type': None, 'final_estimator__interaction_constraints': None, 'final_estimator__learning_rate': None, 'final_estimator__max_bin': None, 'final_estimator__max_cat_threshold': None, 'final_estimator__max_cat_to_onehot': None, 'final_estimator__max_delta_step': None, 'final_estimator__max_depth': None, 'final_estimator__max_leaves': None, 'final_estimator__min_child_weight': None, 'final_estimator__missing': nan, 'final_estimator__monotone_constraints': None, 'final_estimator__multi_strategy': None, 'final_estimator__n_estimators': None, 'final_estimator__n_jobs': None, 'final_estimator__num_parallel_tree': None, 'final_estimator__random_state': None, 'final_estimator__reg_alpha': None, 'final_estimator__reg_lambda': None, 'final_estimator__sampling_method': None, 'final_estimator__scale_pos_weight': None, 'final_estimator__subsample': None, 'final_estimator__tree_method': None, 'final_estimator__validate_parameters': None, 'final_estimator__verbosity': None, 'final_estimator': XGBRegressor(base_score=None, booster=None, callbacks=None,\n",
      "             colsample_bylevel=None, colsample_bynode=None,\n",
      "             colsample_bytree=None, device=None, early_stopping_rounds=None,\n",
      "             enable_categorical=False, eval_metric=None, feature_types=None,\n",
      "             gamma=None, grow_policy=None, importance_type=None,\n",
      "             interaction_constraints=None, learning_rate=None, max_bin=None,\n",
      "             max_cat_threshold=None, max_cat_to_onehot=None,\n",
      "             max_delta_step=None, max_depth=None, max_leaves=None,\n",
      "             min_child_weight=None, missing=nan, monotone_constraints=None,\n",
      "             multi_strategy=None, n_estimators=None, n_jobs=None,\n",
      "             num_parallel_tree=None, random_state=None, ...), 'n_jobs': -1, 'passthrough': True, 'verbose': True, 'xgb1': XGBRegressor(base_score=None, booster=None, callbacks=None,\n",
      "             colsample_bylevel=None, colsample_bynode=None,\n",
      "             colsample_bytree=0.8, device=None, early_stopping_rounds=None,\n",
      "             enable_categorical=False, eval_metric=None, feature_types=None,\n",
      "             gamma=0.05, grow_policy=None, importance_type=None,\n",
      "             interaction_constraints=None, lambda=0.7, learning_rate=0.035,\n",
      "             max_bin=None, max_cat_threshold=None, max_cat_to_onehot=None,\n",
      "             max_delta_step=None, max_depth=5, max_leaves=None,\n",
      "             min_child_weight=None, missing=nan, monotone_constraints=None,\n",
      "             multi_strategy=None, n_estimators=950, n_jobs=None,\n",
      "             num_parallel_tree=None, ...), 'lgbm1': LGBMRegressor(learning_rate=0.02, n_estimators=1300, num_leaves=30), 'rf': RandomForestRegressor(max_features=None, min_samples_split=7, n_estimators=1400), 'mlp': MLPRegressor(alpha=0.05, hidden_layer_sizes=(50, 100, 50)), 'xgb1__objective': 'reg:squarederror', 'xgb1__base_score': None, 'xgb1__booster': None, 'xgb1__callbacks': None, 'xgb1__colsample_bylevel': None, 'xgb1__colsample_bynode': None, 'xgb1__colsample_bytree': 0.8, 'xgb1__device': None, 'xgb1__early_stopping_rounds': None, 'xgb1__enable_categorical': False, 'xgb1__eval_metric': None, 'xgb1__feature_types': None, 'xgb1__gamma': 0.05, 'xgb1__grow_policy': None, 'xgb1__importance_type': None, 'xgb1__interaction_constraints': None, 'xgb1__learning_rate': 0.035, 'xgb1__max_bin': None, 'xgb1__max_cat_threshold': None, 'xgb1__max_cat_to_onehot': None, 'xgb1__max_delta_step': None, 'xgb1__max_depth': 5, 'xgb1__max_leaves': None, 'xgb1__min_child_weight': None, 'xgb1__missing': nan, 'xgb1__monotone_constraints': None, 'xgb1__multi_strategy': None, 'xgb1__n_estimators': 950, 'xgb1__n_jobs': None, 'xgb1__num_parallel_tree': None, 'xgb1__random_state': None, 'xgb1__reg_alpha': None, 'xgb1__reg_lambda': None, 'xgb1__sampling_method': None, 'xgb1__scale_pos_weight': None, 'xgb1__subsample': 1, 'xgb1__tree_method': None, 'xgb1__validate_parameters': None, 'xgb1__verbosity': None, 'xgb1__lambda': 0.7, 'lgbm1__boosting_type': 'gbdt', 'lgbm1__class_weight': None, 'lgbm1__colsample_bytree': 1.0, 'lgbm1__importance_type': 'split', 'lgbm1__learning_rate': 0.02, 'lgbm1__max_depth': -1, 'lgbm1__min_child_samples': 20, 'lgbm1__min_child_weight': 0.001, 'lgbm1__min_split_gain': 0.0, 'lgbm1__n_estimators': 1300, 'lgbm1__n_jobs': None, 'lgbm1__num_leaves': 30, 'lgbm1__objective': None, 'lgbm1__random_state': None, 'lgbm1__reg_alpha': 0.0, 'lgbm1__reg_lambda': 0.0, 'lgbm1__subsample': 1.0, 'lgbm1__subsample_for_bin': 200000, 'lgbm1__subsample_freq': 0, 'rf__bootstrap': True, 'rf__ccp_alpha': 0.0, 'rf__criterion': 'squared_error', 'rf__max_depth': None, 'rf__max_features': None, 'rf__max_leaf_nodes': None, 'rf__max_samples': None, 'rf__min_impurity_decrease': 0.0, 'rf__min_samples_leaf': 1, 'rf__min_samples_split': 7, 'rf__min_weight_fraction_leaf': 0.0, 'rf__monotonic_cst': None, 'rf__n_estimators': 1400, 'rf__n_jobs': None, 'rf__oob_score': False, 'rf__random_state': None, 'rf__verbose': 0, 'rf__warm_start': False, 'mlp__activation': 'relu', 'mlp__alpha': 0.05, 'mlp__batch_size': 'auto', 'mlp__beta_1': 0.9, 'mlp__beta_2': 0.999, 'mlp__early_stopping': False, 'mlp__epsilon': 1e-08, 'mlp__hidden_layer_sizes': (50, 100, 50), 'mlp__learning_rate': 'constant', 'mlp__learning_rate_init': 0.001, 'mlp__max_fun': 15000, 'mlp__max_iter': 200, 'mlp__momentum': 0.9, 'mlp__n_iter_no_change': 10, 'mlp__nesterovs_momentum': True, 'mlp__power_t': 0.5, 'mlp__random_state': None, 'mlp__shuffle': True, 'mlp__solver': 'adam', 'mlp__tol': 0.0001, 'mlp__validation_fraction': 0.1, 'mlp__verbose': False, 'mlp__warm_start': False}  | cv_score_mean: 562.7519366328913\n",
      "CPU times: total: 1min 46s\n",
      "Wall time: 1h 23min 22s\n"
     ]
    }
   ],
   "source": [
    "%%time\n",
    "xgb_model = XGBRegressor(**param_grid_xgb)\n",
    "lgb_model = LGBMRegressor(**param_grid_lgbm)\n",
    "rf_model = RandomForestRegressor(**param_grid_rf)\n",
    "mlp_model = MLPRegressor(**param_grid_mlp)\n",
    "\n",
    "estimators = [('xgb1', xgb_model),\n",
    "              ('lgbm1', lgb_model),\n",
    "              ('rf', rf_model),\n",
    "              ('mlp', mlp_model)]\n",
    "              #('extrees', extrees_model),]\n",
    "\n",
    "final_estimator = XGBRegressor()  # Definir el estimador final\n",
    "\n",
    "stack_model_final_est = StackingRegressor(estimators=estimators, final_estimator=final_estimator,\n",
    "                                cv=5, n_jobs=-1, verbose=True, passthrough=True)\n",
    "\n",
    "cv_results = []\n",
    "cv_score = cross_val_score(stack_model_final_est, X, y, scoring=\"neg_root_mean_squared_error\", cv=5)\n",
    "cv_results.append(cv_score)\n",
    "cv_score_mean = abs(np.mean(cv_results))\n",
    "\n",
    "stack_model_final_est.fit(X,y)\n",
    "hyperparameters_stacking_2 = stack_model_final_est.get_params()\n",
    "print('Hyperparameters: ', hyperparameters_stacking_2, ' | cv_score_mean:', cv_score_mean)"
   ]
  },
  {
   "cell_type": "markdown",
   "id": "e232adde",
   "metadata": {},
   "source": [
    "#### Obtain the prediction"
   ]
  },
  {
   "cell_type": "code",
   "execution_count": 53,
   "id": "73224aff",
   "metadata": {},
   "outputs": [
    {
     "data": {
      "text/plain": [
       "13485"
      ]
     },
     "execution_count": 53,
     "metadata": {},
     "output_type": "execute_result"
    }
   ],
   "source": [
    "y_pred_stack_wfe = stack_model_final_est.predict(X_test)\n",
    "len(y_pred_stack_wfe)"
   ]
  },
  {
   "cell_type": "code",
   "execution_count": 54,
   "id": "04645e93",
   "metadata": {},
   "outputs": [],
   "source": [
    "y_pred_stack_wfe_df = pd.DataFrame(y_pred_stack_wfe)\n",
    "y_pred_stack_wfe_df.reset_index(inplace=True)\n",
    "y_pred_stack_wfe_df.columns = ['id', 'price']\n",
    "y_pred_stack_wfe_df.to_csv('../data/submisions/stacking_with_final_estimator.csv', index=False)"
   ]
  },
  {
   "cell_type": "markdown",
   "id": "2c44759b",
   "metadata": {},
   "source": [
    "### Voting"
   ]
  },
  {
   "cell_type": "code",
   "execution_count": 48,
   "id": "208ac7da",
   "metadata": {},
   "outputs": [
    {
     "name": "stdout",
     "output_type": "stream",
     "text": [
      "Hyperparameters:  {'estimators': [('xgb1', XGBRegressor(base_score=None, booster=None, callbacks=None,\n",
      "             colsample_bylevel=None, colsample_bynode=None,\n",
      "             colsample_bytree=0.8, device=None, early_stopping_rounds=None,\n",
      "             enable_categorical=False, eval_metric=None, feature_types=None,\n",
      "             gamma=0.05, grow_policy=None, importance_type=None,\n",
      "             interaction_constraints=None, lambda=0.7, learning_rate=0.035,\n",
      "             max_bin=None, max_cat_threshold=None, max_cat_to_onehot=None,\n",
      "             max_delta_step=None, max_depth=5, max_leaves=None,\n",
      "             min_child_weight=None, missing=nan, monotone_constraints=None,\n",
      "             multi_strategy=None, n_estimators=950, n_jobs=None,\n",
      "             num_parallel_tree=None, ...)), ('lgbm1', LGBMRegressor(learning_rate=0.02, n_estimators=1300, num_leaves=30)), ('rf', RandomForestRegressor(max_features=None, min_samples_split=7, n_estimators=1400)), ('mlp', MLPRegressor(alpha=0.05, hidden_layer_sizes=(50, 100, 50)))], 'n_jobs': -1, 'verbose': True, 'weights': None, 'xgb1': XGBRegressor(base_score=None, booster=None, callbacks=None,\n",
      "             colsample_bylevel=None, colsample_bynode=None,\n",
      "             colsample_bytree=0.8, device=None, early_stopping_rounds=None,\n",
      "             enable_categorical=False, eval_metric=None, feature_types=None,\n",
      "             gamma=0.05, grow_policy=None, importance_type=None,\n",
      "             interaction_constraints=None, lambda=0.7, learning_rate=0.035,\n",
      "             max_bin=None, max_cat_threshold=None, max_cat_to_onehot=None,\n",
      "             max_delta_step=None, max_depth=5, max_leaves=None,\n",
      "             min_child_weight=None, missing=nan, monotone_constraints=None,\n",
      "             multi_strategy=None, n_estimators=950, n_jobs=None,\n",
      "             num_parallel_tree=None, ...), 'lgbm1': LGBMRegressor(learning_rate=0.02, n_estimators=1300, num_leaves=30), 'rf': RandomForestRegressor(max_features=None, min_samples_split=7, n_estimators=1400), 'mlp': MLPRegressor(alpha=0.05, hidden_layer_sizes=(50, 100, 50)), 'xgb1__objective': 'reg:squarederror', 'xgb1__base_score': None, 'xgb1__booster': None, 'xgb1__callbacks': None, 'xgb1__colsample_bylevel': None, 'xgb1__colsample_bynode': None, 'xgb1__colsample_bytree': 0.8, 'xgb1__device': None, 'xgb1__early_stopping_rounds': None, 'xgb1__enable_categorical': False, 'xgb1__eval_metric': None, 'xgb1__feature_types': None, 'xgb1__gamma': 0.05, 'xgb1__grow_policy': None, 'xgb1__importance_type': None, 'xgb1__interaction_constraints': None, 'xgb1__learning_rate': 0.035, 'xgb1__max_bin': None, 'xgb1__max_cat_threshold': None, 'xgb1__max_cat_to_onehot': None, 'xgb1__max_delta_step': None, 'xgb1__max_depth': 5, 'xgb1__max_leaves': None, 'xgb1__min_child_weight': None, 'xgb1__missing': nan, 'xgb1__monotone_constraints': None, 'xgb1__multi_strategy': None, 'xgb1__n_estimators': 950, 'xgb1__n_jobs': None, 'xgb1__num_parallel_tree': None, 'xgb1__random_state': None, 'xgb1__reg_alpha': None, 'xgb1__reg_lambda': None, 'xgb1__sampling_method': None, 'xgb1__scale_pos_weight': None, 'xgb1__subsample': 1, 'xgb1__tree_method': None, 'xgb1__validate_parameters': None, 'xgb1__verbosity': None, 'xgb1__lambda': 0.7, 'lgbm1__boosting_type': 'gbdt', 'lgbm1__class_weight': None, 'lgbm1__colsample_bytree': 1.0, 'lgbm1__importance_type': 'split', 'lgbm1__learning_rate': 0.02, 'lgbm1__max_depth': -1, 'lgbm1__min_child_samples': 20, 'lgbm1__min_child_weight': 0.001, 'lgbm1__min_split_gain': 0.0, 'lgbm1__n_estimators': 1300, 'lgbm1__n_jobs': None, 'lgbm1__num_leaves': 30, 'lgbm1__objective': None, 'lgbm1__random_state': None, 'lgbm1__reg_alpha': 0.0, 'lgbm1__reg_lambda': 0.0, 'lgbm1__subsample': 1.0, 'lgbm1__subsample_for_bin': 200000, 'lgbm1__subsample_freq': 0, 'rf__bootstrap': True, 'rf__ccp_alpha': 0.0, 'rf__criterion': 'squared_error', 'rf__max_depth': None, 'rf__max_features': None, 'rf__max_leaf_nodes': None, 'rf__max_samples': None, 'rf__min_impurity_decrease': 0.0, 'rf__min_samples_leaf': 1, 'rf__min_samples_split': 7, 'rf__min_weight_fraction_leaf': 0.0, 'rf__monotonic_cst': None, 'rf__n_estimators': 1400, 'rf__n_jobs': None, 'rf__oob_score': False, 'rf__random_state': None, 'rf__verbose': 0, 'rf__warm_start': False, 'mlp__activation': 'relu', 'mlp__alpha': 0.05, 'mlp__batch_size': 'auto', 'mlp__beta_1': 0.9, 'mlp__beta_2': 0.999, 'mlp__early_stopping': False, 'mlp__epsilon': 1e-08, 'mlp__hidden_layer_sizes': (50, 100, 50), 'mlp__learning_rate': 'constant', 'mlp__learning_rate_init': 0.001, 'mlp__max_fun': 15000, 'mlp__max_iter': 200, 'mlp__momentum': 0.9, 'mlp__n_iter_no_change': 10, 'mlp__nesterovs_momentum': True, 'mlp__power_t': 0.5, 'mlp__random_state': None, 'mlp__shuffle': True, 'mlp__solver': 'adam', 'mlp__tol': 0.0001, 'mlp__validation_fraction': 0.1, 'mlp__verbose': False, 'mlp__warm_start': False}  | cv_score_mean: 567.6702699720934\n",
      "Hyperparameters:  {'estimators': [('xgb1', XGBRegressor(base_score=None, booster=None, callbacks=None,\n",
      "             colsample_bylevel=None, colsample_bynode=None,\n",
      "             colsample_bytree=0.8, device=None, early_stopping_rounds=None,\n",
      "             enable_categorical=False, eval_metric=None, feature_types=None,\n",
      "             gamma=0.05, grow_policy=None, importance_type=None,\n",
      "             interaction_constraints=None, lambda=0.7, learning_rate=0.035,\n",
      "             max_bin=None, max_cat_threshold=None, max_cat_to_onehot=None,\n",
      "             max_delta_step=None, max_depth=5, max_leaves=None,\n",
      "             min_child_weight=None, missing=nan, monotone_constraints=None,\n",
      "             multi_strategy=None, n_estimators=950, n_jobs=None,\n",
      "             num_parallel_tree=None, ...)), ('lgbm1', LGBMRegressor(learning_rate=0.02, n_estimators=1300, num_leaves=30)), ('rf', RandomForestRegressor(max_features=None, min_samples_split=7, n_estimators=1400)), ('mlp', MLPRegressor(alpha=0.05, hidden_layer_sizes=(50, 100, 50)))], 'n_jobs': -1, 'verbose': True, 'weights': None, 'xgb1': XGBRegressor(base_score=None, booster=None, callbacks=None,\n",
      "             colsample_bylevel=None, colsample_bynode=None,\n",
      "             colsample_bytree=0.8, device=None, early_stopping_rounds=None,\n",
      "             enable_categorical=False, eval_metric=None, feature_types=None,\n",
      "             gamma=0.05, grow_policy=None, importance_type=None,\n",
      "             interaction_constraints=None, lambda=0.7, learning_rate=0.035,\n",
      "             max_bin=None, max_cat_threshold=None, max_cat_to_onehot=None,\n",
      "             max_delta_step=None, max_depth=5, max_leaves=None,\n",
      "             min_child_weight=None, missing=nan, monotone_constraints=None,\n",
      "             multi_strategy=None, n_estimators=950, n_jobs=None,\n",
      "             num_parallel_tree=None, ...), 'lgbm1': LGBMRegressor(learning_rate=0.02, n_estimators=1300, num_leaves=30), 'rf': RandomForestRegressor(max_features=None, min_samples_split=7, n_estimators=1400), 'mlp': MLPRegressor(alpha=0.05, hidden_layer_sizes=(50, 100, 50)), 'xgb1__objective': 'reg:squarederror', 'xgb1__base_score': None, 'xgb1__booster': None, 'xgb1__callbacks': None, 'xgb1__colsample_bylevel': None, 'xgb1__colsample_bynode': None, 'xgb1__colsample_bytree': 0.8, 'xgb1__device': None, 'xgb1__early_stopping_rounds': None, 'xgb1__enable_categorical': False, 'xgb1__eval_metric': None, 'xgb1__feature_types': None, 'xgb1__gamma': 0.05, 'xgb1__grow_policy': None, 'xgb1__importance_type': None, 'xgb1__interaction_constraints': None, 'xgb1__learning_rate': 0.035, 'xgb1__max_bin': None, 'xgb1__max_cat_threshold': None, 'xgb1__max_cat_to_onehot': None, 'xgb1__max_delta_step': None, 'xgb1__max_depth': 5, 'xgb1__max_leaves': None, 'xgb1__min_child_weight': None, 'xgb1__missing': nan, 'xgb1__monotone_constraints': None, 'xgb1__multi_strategy': None, 'xgb1__n_estimators': 950, 'xgb1__n_jobs': None, 'xgb1__num_parallel_tree': None, 'xgb1__random_state': None, 'xgb1__reg_alpha': None, 'xgb1__reg_lambda': None, 'xgb1__sampling_method': None, 'xgb1__scale_pos_weight': None, 'xgb1__subsample': 1, 'xgb1__tree_method': None, 'xgb1__validate_parameters': None, 'xgb1__verbosity': None, 'xgb1__lambda': 0.7, 'lgbm1__boosting_type': 'gbdt', 'lgbm1__class_weight': None, 'lgbm1__colsample_bytree': 1.0, 'lgbm1__importance_type': 'split', 'lgbm1__learning_rate': 0.02, 'lgbm1__max_depth': -1, 'lgbm1__min_child_samples': 20, 'lgbm1__min_child_weight': 0.001, 'lgbm1__min_split_gain': 0.0, 'lgbm1__n_estimators': 1300, 'lgbm1__n_jobs': None, 'lgbm1__num_leaves': 30, 'lgbm1__objective': None, 'lgbm1__random_state': None, 'lgbm1__reg_alpha': 0.0, 'lgbm1__reg_lambda': 0.0, 'lgbm1__subsample': 1.0, 'lgbm1__subsample_for_bin': 200000, 'lgbm1__subsample_freq': 0, 'rf__bootstrap': True, 'rf__ccp_alpha': 0.0, 'rf__criterion': 'squared_error', 'rf__max_depth': None, 'rf__max_features': None, 'rf__max_leaf_nodes': None, 'rf__max_samples': None, 'rf__min_impurity_decrease': 0.0, 'rf__min_samples_leaf': 1, 'rf__min_samples_split': 7, 'rf__min_weight_fraction_leaf': 0.0, 'rf__monotonic_cst': None, 'rf__n_estimators': 1400, 'rf__n_jobs': None, 'rf__oob_score': False, 'rf__random_state': None, 'rf__verbose': 0, 'rf__warm_start': False, 'mlp__activation': 'relu', 'mlp__alpha': 0.05, 'mlp__batch_size': 'auto', 'mlp__beta_1': 0.9, 'mlp__beta_2': 0.999, 'mlp__early_stopping': False, 'mlp__epsilon': 1e-08, 'mlp__hidden_layer_sizes': (50, 100, 50), 'mlp__learning_rate': 'constant', 'mlp__learning_rate_init': 0.001, 'mlp__max_fun': 15000, 'mlp__max_iter': 200, 'mlp__momentum': 0.9, 'mlp__n_iter_no_change': 10, 'mlp__nesterovs_momentum': True, 'mlp__power_t': 0.5, 'mlp__random_state': None, 'mlp__shuffle': True, 'mlp__solver': 'adam', 'mlp__tol': 0.0001, 'mlp__validation_fraction': 0.1, 'mlp__verbose': False, 'mlp__warm_start': False}\n",
      "CPU times: total: 1min 27s\n",
      "Wall time: 43min\n"
     ]
    }
   ],
   "source": [
    "%%time\n",
    "xgb_model = XGBRegressor(**param_grid_xgb)\n",
    "lgb_model = LGBMRegressor(**param_grid_lgbm)\n",
    "rf_model = RandomForestRegressor(**param_grid_rf)\n",
    "mlp_model = MLPRegressor(**param_grid_mlp)\n",
    "\n",
    "estimators = [('xgb1', xgb_model),\n",
    "              ('lgbm1', lgb_model),\n",
    "              ('rf', rf_model),\n",
    "              ('mlp', mlp_model)]\n",
    "              #('extrees', extrees_model),]\n",
    "\n",
    "voting_model = VotingRegressor(estimators=estimators, n_jobs=-1, verbose=True)\n",
    "\n",
    "cv_results = []\n",
    "cv_score = cross_val_score(voting_model, X, y, scoring=\"neg_root_mean_squared_error\", cv=5)\n",
    "cv_results.append(cv_score)\n",
    "\n",
    "hyperparameters = voting_model.get_params()\n",
    "cv_score_mean = abs(np.mean(cv_results))\n",
    "print('Hyperparameters: ', hyperparameters, ' | cv_score_mean:', cv_score_mean)\n",
    "\n",
    "voting_model.fit(X,y)\n",
    "hyperparameters_voting = voting_model.get_params()\n",
    "print('Hyperparameters: ', hyperparameters_voting)"
   ]
  },
  {
   "cell_type": "markdown",
   "id": "cf7a0ef1",
   "metadata": {},
   "source": [
    "#### Obtain the prediction"
   ]
  },
  {
   "cell_type": "code",
   "execution_count": 50,
   "id": "a3816a4d",
   "metadata": {},
   "outputs": [
    {
     "data": {
      "text/plain": [
       "13485"
      ]
     },
     "execution_count": 50,
     "metadata": {},
     "output_type": "execute_result"
    }
   ],
   "source": [
    "y_pred_voting = voting_model.predict(X_test)\n",
    "len(y_pred_voting)"
   ]
  },
  {
   "cell_type": "code",
   "execution_count": 51,
   "id": "7a2280b3",
   "metadata": {},
   "outputs": [],
   "source": [
    "y_pred_voting_df = pd.DataFrame(y_pred_voting)\n",
    "y_pred_voting_df.reset_index(inplace=True)\n",
    "y_pred_voting_df.columns = ['id', 'price']\n",
    "y_pred_voting_df.to_csv('../data/submisions/voting.csv', index=False)"
   ]
  }
 ],
 "metadata": {
  "kernelspec": {
   "display_name": "m3_env",
   "language": "python",
   "name": "m3_env"
  },
  "language_info": {
   "codemirror_mode": {
    "name": "ipython",
    "version": 3
   },
   "file_extension": ".py",
   "mimetype": "text/x-python",
   "name": "python",
   "nbconvert_exporter": "python",
   "pygments_lexer": "ipython3",
   "version": "3.12.1"
  }
 },
 "nbformat": 4,
 "nbformat_minor": 5
}
